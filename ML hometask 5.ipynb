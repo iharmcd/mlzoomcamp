{
 "cells": [
  {
   "cell_type": "markdown",
   "id": "2c22c9d9-8359-4dc9-a736-1be32357e286",
   "metadata": {},
   "source": [
    "pipenv, version 2024.2.0"
   ]
  },
  {
   "cell_type": "code",
   "execution_count": 2,
   "id": "b3e6139c-92bc-49cf-8df8-2a7e95c766a5",
   "metadata": {},
   "outputs": [],
   "source": [
    "import pickle"
   ]
  },
  {
   "cell_type": "code",
   "execution_count": 5,
   "id": "97d1bc43-7ff7-4c4b-a3d7-5abb5ed7eabb",
   "metadata": {},
   "outputs": [],
   "source": [
    "with open('Downloads/model1.bin', 'rb') as f_model:\n",
    "    model = pickle.load(f_model)\n",
    "\n",
    "with open('Downloads/dv.bin', 'rb') as f_dv:\n",
    "    dv = pickle.load(f_dv)"
   ]
  },
  {
   "cell_type": "code",
   "execution_count": 6,
   "id": "828c2618-c62f-4ff3-b0b7-e53d321150f1",
   "metadata": {},
   "outputs": [],
   "source": [
    "def predict_single(customer, dv, model):\n",
    "    X = dv.transform([customer])\n",
    "    y_pred = model.predict_proba(X)[:, 1]\n",
    "    return y_pred[0]"
   ]
  },
  {
   "cell_type": "code",
   "execution_count": 8,
   "id": "8c4bac21-4643-4a98-a6d6-baed61876106",
   "metadata": {},
   "outputs": [
    {
     "name": "stdout",
     "output_type": "stream",
     "text": [
      "prediction: 0.759\n"
     ]
    }
   ],
   "source": [
    "customer = {\"job\": \"management\", \"duration\": 400, \"poutcome\": \"success\"}\n",
    "\n",
    "prediction = predict_single(customer, dv, model)\n",
    "\n",
    "print('prediction: %.3f' % prediction)"
   ]
  },
  {
   "cell_type": "code",
   "execution_count": 9,
   "id": "d580a2b4-735f-42c1-a09c-36fe76b48fc4",
   "metadata": {},
   "outputs": [
    {
     "name": "stdout",
     "output_type": "stream",
     "text": [
      "{\n",
      "  \"subicription_probability\": 0.33480703475511053,\n",
      "  \"subscription\": false\n",
      "}\n"
     ]
    }
   ],
   "source": [
    "import requests\n",
    "import json\n",
    "\n",
    "client = {\"job\": \"student\", \"duration\": 280, \"poutcome\": \"failure\"}\n",
    "\n",
    "url = 'http://localhost:9696/predict'\n",
    "response = requests.post(url, json=client)\n",
    "result = response.json()\n",
    "\n",
    "print(json.dumps(result, indent=2))"
   ]
  },
  {
   "cell_type": "code",
   "execution_count": 13,
   "id": "b6c0f676-d279-4f18-907c-2c7202fc007a",
   "metadata": {},
   "outputs": [
    {
     "data": {
      "text/plain": [
       "{'subicription_probability': 0.756743795240796, 'subscription': True}"
      ]
     },
     "execution_count": 13,
     "metadata": {},
     "output_type": "execute_result"
    }
   ],
   "source": [
    "url = 'http://localhost:9696/predict'\n",
    "client = {\"job\": \"management\", \"duration\": 400, \"poutcome\": \"success\"}\n",
    "requests.post(url, json=client).json()"
   ]
  },
  {
   "cell_type": "code",
   "execution_count": null,
   "id": "27371dd7-949f-4801-9e7d-92ad3745b2c9",
   "metadata": {},
   "outputs": [],
   "source": []
  }
 ],
 "metadata": {
  "kernelspec": {
   "display_name": "Python 3 (ipykernel)",
   "language": "python",
   "name": "python3"
  },
  "language_info": {
   "codemirror_mode": {
    "name": "ipython",
    "version": 3
   },
   "file_extension": ".py",
   "mimetype": "text/x-python",
   "name": "python",
   "nbconvert_exporter": "python",
   "pygments_lexer": "ipython3",
   "version": "3.12.4"
  }
 },
 "nbformat": 4,
 "nbformat_minor": 5
}
