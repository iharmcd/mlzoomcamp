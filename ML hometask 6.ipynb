{
 "cells": [
  {
   "cell_type": "code",
   "execution_count": 1,
   "id": "a504c153-2edc-4f3a-9fba-c41a195c4ed1",
   "metadata": {},
   "outputs": [],
   "source": [
    "import pandas as pd\n",
    "import numpy as np\n",
    "\n",
    "import seaborn as sns\n",
    "from matplotlib import pyplot as plt\n",
    "%matplotlib inline"
   ]
  },
  {
   "cell_type": "code",
   "execution_count": 33,
   "id": "baf9b1b8-375e-4f3b-937a-39210d3e1eba",
   "metadata": {},
   "outputs": [
    {
     "data": {
      "text/html": [
       "<div>\n",
       "<style scoped>\n",
       "    .dataframe tbody tr th:only-of-type {\n",
       "        vertical-align: middle;\n",
       "    }\n",
       "\n",
       "    .dataframe tbody tr th {\n",
       "        vertical-align: top;\n",
       "    }\n",
       "\n",
       "    .dataframe thead th {\n",
       "        text-align: right;\n",
       "    }\n",
       "</style>\n",
       "<table border=\"1\" class=\"dataframe\">\n",
       "  <thead>\n",
       "    <tr style=\"text-align: right;\">\n",
       "      <th></th>\n",
       "      <th>JAMB_Score</th>\n",
       "      <th>Study_Hours_Per_Week</th>\n",
       "      <th>Attendance_Rate</th>\n",
       "      <th>Teacher_Quality</th>\n",
       "      <th>Distance_To_School</th>\n",
       "      <th>School_Type</th>\n",
       "      <th>School_Location</th>\n",
       "      <th>Extra_Tutorials</th>\n",
       "      <th>Access_To_Learning_Materials</th>\n",
       "      <th>Parent_Involvement</th>\n",
       "      <th>IT_Knowledge</th>\n",
       "      <th>Student_ID</th>\n",
       "      <th>Age</th>\n",
       "      <th>Gender</th>\n",
       "      <th>Socioeconomic_Status</th>\n",
       "      <th>Parent_Education_Level</th>\n",
       "      <th>Assignments_Completed</th>\n",
       "    </tr>\n",
       "  </thead>\n",
       "  <tbody>\n",
       "    <tr>\n",
       "      <th>0</th>\n",
       "      <td>192</td>\n",
       "      <td>22</td>\n",
       "      <td>78</td>\n",
       "      <td>4</td>\n",
       "      <td>12.4</td>\n",
       "      <td>Public</td>\n",
       "      <td>Urban</td>\n",
       "      <td>Yes</td>\n",
       "      <td>Yes</td>\n",
       "      <td>High</td>\n",
       "      <td>Medium</td>\n",
       "      <td>1</td>\n",
       "      <td>17</td>\n",
       "      <td>Male</td>\n",
       "      <td>Low</td>\n",
       "      <td>Tertiary</td>\n",
       "      <td>2</td>\n",
       "    </tr>\n",
       "    <tr>\n",
       "      <th>1</th>\n",
       "      <td>207</td>\n",
       "      <td>14</td>\n",
       "      <td>88</td>\n",
       "      <td>4</td>\n",
       "      <td>2.7</td>\n",
       "      <td>Public</td>\n",
       "      <td>Rural</td>\n",
       "      <td>No</td>\n",
       "      <td>Yes</td>\n",
       "      <td>High</td>\n",
       "      <td>High</td>\n",
       "      <td>2</td>\n",
       "      <td>15</td>\n",
       "      <td>Male</td>\n",
       "      <td>High</td>\n",
       "      <td>NaN</td>\n",
       "      <td>1</td>\n",
       "    </tr>\n",
       "    <tr>\n",
       "      <th>2</th>\n",
       "      <td>182</td>\n",
       "      <td>29</td>\n",
       "      <td>87</td>\n",
       "      <td>2</td>\n",
       "      <td>9.6</td>\n",
       "      <td>Public</td>\n",
       "      <td>Rural</td>\n",
       "      <td>Yes</td>\n",
       "      <td>Yes</td>\n",
       "      <td>High</td>\n",
       "      <td>Medium</td>\n",
       "      <td>3</td>\n",
       "      <td>20</td>\n",
       "      <td>Female</td>\n",
       "      <td>High</td>\n",
       "      <td>Tertiary</td>\n",
       "      <td>2</td>\n",
       "    </tr>\n",
       "    <tr>\n",
       "      <th>3</th>\n",
       "      <td>210</td>\n",
       "      <td>29</td>\n",
       "      <td>99</td>\n",
       "      <td>2</td>\n",
       "      <td>2.6</td>\n",
       "      <td>Public</td>\n",
       "      <td>Urban</td>\n",
       "      <td>No</td>\n",
       "      <td>Yes</td>\n",
       "      <td>Medium</td>\n",
       "      <td>High</td>\n",
       "      <td>4</td>\n",
       "      <td>22</td>\n",
       "      <td>Female</td>\n",
       "      <td>Medium</td>\n",
       "      <td>Tertiary</td>\n",
       "      <td>1</td>\n",
       "    </tr>\n",
       "    <tr>\n",
       "      <th>4</th>\n",
       "      <td>199</td>\n",
       "      <td>12</td>\n",
       "      <td>98</td>\n",
       "      <td>3</td>\n",
       "      <td>8.8</td>\n",
       "      <td>Public</td>\n",
       "      <td>Urban</td>\n",
       "      <td>No</td>\n",
       "      <td>Yes</td>\n",
       "      <td>Medium</td>\n",
       "      <td>Medium</td>\n",
       "      <td>5</td>\n",
       "      <td>22</td>\n",
       "      <td>Female</td>\n",
       "      <td>Medium</td>\n",
       "      <td>Tertiary</td>\n",
       "      <td>1</td>\n",
       "    </tr>\n",
       "  </tbody>\n",
       "</table>\n",
       "</div>"
      ],
      "text/plain": [
       "   JAMB_Score  Study_Hours_Per_Week  Attendance_Rate  Teacher_Quality  \\\n",
       "0         192                    22               78                4   \n",
       "1         207                    14               88                4   \n",
       "2         182                    29               87                2   \n",
       "3         210                    29               99                2   \n",
       "4         199                    12               98                3   \n",
       "\n",
       "   Distance_To_School School_Type School_Location Extra_Tutorials  \\\n",
       "0                12.4      Public           Urban             Yes   \n",
       "1                 2.7      Public           Rural              No   \n",
       "2                 9.6      Public           Rural             Yes   \n",
       "3                 2.6      Public           Urban              No   \n",
       "4                 8.8      Public           Urban              No   \n",
       "\n",
       "  Access_To_Learning_Materials Parent_Involvement IT_Knowledge  Student_ID  \\\n",
       "0                          Yes               High       Medium           1   \n",
       "1                          Yes               High         High           2   \n",
       "2                          Yes               High       Medium           3   \n",
       "3                          Yes             Medium         High           4   \n",
       "4                          Yes             Medium       Medium           5   \n",
       "\n",
       "   Age  Gender Socioeconomic_Status Parent_Education_Level  \\\n",
       "0   17    Male                  Low               Tertiary   \n",
       "1   15    Male                 High                    NaN   \n",
       "2   20  Female                 High               Tertiary   \n",
       "3   22  Female               Medium               Tertiary   \n",
       "4   22  Female               Medium               Tertiary   \n",
       "\n",
       "   Assignments_Completed  \n",
       "0                      2  \n",
       "1                      1  \n",
       "2                      2  \n",
       "3                      1  \n",
       "4                      1  "
      ]
     },
     "execution_count": 33,
     "metadata": {},
     "output_type": "execute_result"
    }
   ],
   "source": [
    "df = pd.read_csv('Downloads/jamb_exam_results.csv')\n",
    "df.head()"
   ]
  },
  {
   "cell_type": "code",
   "execution_count": 34,
   "id": "11672337-dda9-4675-9b45-b41f93cb0f15",
   "metadata": {},
   "outputs": [
    {
     "data": {
      "text/plain": [
       "JAMB_Score                        int64\n",
       "Study_Hours_Per_Week              int64\n",
       "Attendance_Rate                   int64\n",
       "Teacher_Quality                   int64\n",
       "Distance_To_School              float64\n",
       "School_Type                      object\n",
       "School_Location                  object\n",
       "Extra_Tutorials                  object\n",
       "Access_To_Learning_Materials     object\n",
       "Parent_Involvement               object\n",
       "IT_Knowledge                     object\n",
       "Student_ID                        int64\n",
       "Age                               int64\n",
       "Gender                           object\n",
       "Socioeconomic_Status             object\n",
       "Parent_Education_Level           object\n",
       "Assignments_Completed             int64\n",
       "dtype: object"
      ]
     },
     "execution_count": 34,
     "metadata": {},
     "output_type": "execute_result"
    }
   ],
   "source": [
    "df.dtypes"
   ]
  },
  {
   "cell_type": "code",
   "execution_count": 36,
   "id": "32f5bff0-da81-40c5-a22c-b69f83568fb9",
   "metadata": {},
   "outputs": [],
   "source": [
    "df.columns = df.columns.str.lower().str.replace(' ', '_')\n",
    "\n",
    "del df['student_id']"
   ]
  },
  {
   "cell_type": "code",
   "execution_count": 37,
   "id": "1dd92118-e2a3-4869-9cb7-58931fbede4e",
   "metadata": {},
   "outputs": [],
   "source": [
    "from sklearn.model_selection import train_test_split\n",
    "\n",
    "df_train_full, df_test = train_test_split(df, test_size=0.2, random_state=1)\n",
    "df_train, df_val = train_test_split(df_train_full, test_size=0.25, random_state=1)\n",
    "\n",
    "\n",
    "y_train = df_train['jamb_score']\n",
    "y_val = df_val['jamb_score']\n",
    "y_test = df_test['jamb_score']\n",
    "\n",
    "\n",
    "del df_train['jamb_score']\n",
    "del df_val['jamb_score']\n",
    "del df_test['jamb_score']"
   ]
  },
  {
   "cell_type": "code",
   "execution_count": 38,
   "id": "3882b202-292b-474c-bc3f-33d9a5243793",
   "metadata": {},
   "outputs": [
    {
     "data": {
      "text/plain": [
       "study_hours_per_week              0\n",
       "attendance_rate                   0\n",
       "teacher_quality                   0\n",
       "distance_to_school                0\n",
       "school_type                       0\n",
       "school_location                   0\n",
       "extra_tutorials                   0\n",
       "access_to_learning_materials      0\n",
       "parent_involvement                0\n",
       "it_knowledge                      0\n",
       "age                               0\n",
       "gender                            0\n",
       "socioeconomic_status              0\n",
       "parent_education_level          540\n",
       "assignments_completed             0\n",
       "dtype: int64"
      ]
     },
     "execution_count": 38,
     "metadata": {},
     "output_type": "execute_result"
    }
   ],
   "source": [
    "df_train.isnull().sum()"
   ]
  },
  {
   "cell_type": "code",
   "execution_count": 39,
   "id": "5ae997ae-2524-4494-8b8b-e92b46458abd",
   "metadata": {},
   "outputs": [
    {
     "data": {
      "text/plain": [
       "array([nan, 'Secondary', 'Tertiary', 'Primary'], dtype=object)"
      ]
     },
     "execution_count": 39,
     "metadata": {},
     "output_type": "execute_result"
    }
   ],
   "source": [
    "df_train.parent_education_level.unique()"
   ]
  },
  {
   "cell_type": "code",
   "execution_count": 40,
   "id": "d10ad05a-f4e2-4b1f-b1c5-aa0241389bcc",
   "metadata": {},
   "outputs": [
    {
     "data": {
      "text/plain": [
       "(3000, 1000, 1000)"
      ]
     },
     "execution_count": 40,
     "metadata": {},
     "output_type": "execute_result"
    }
   ],
   "source": [
    "len(df_train), len(df_val), len(df_test)"
   ]
  },
  {
   "cell_type": "code",
   "execution_count": 41,
   "id": "f426a797-a610-4d19-8a60-1730d46e67cd",
   "metadata": {},
   "outputs": [],
   "source": [
    "df_train['parent_education_level'] = df_train['parent_education_level'].fillna('Unknown')\n",
    "df_val['parent_education_level'] = df_val['parent_education_level'].fillna('Unknown')\n",
    "df_test['parent_education_level'] = df_test['parent_education_level'].fillna('Unknown')"
   ]
  },
  {
   "cell_type": "code",
   "execution_count": 43,
   "id": "e8b61c61-068e-4ae9-b456-d4c53029998a",
   "metadata": {},
   "outputs": [],
   "source": [
    "from sklearn.feature_extraction import DictVectorizer\n",
    "\n",
    "# Initialize DictVectorizer with sparse=True\n",
    "dv = DictVectorizer(sparse=True)\n",
    "\n",
    "# Convert dataframes to dictionaries and apply DictVectorizer\n",
    "train_dicts = df_train.to_dict(orient='records')\n",
    "val_dicts = df_val.to_dict(orient='records')\n",
    "test_dicts = df_test.to_dict(orient='records')\n",
    "\n",
    "X_train = dv.fit_transform(train_dicts)\n",
    "X_val = dv.transform(val_dicts)\n",
    "X_test = dv.transform(test_dicts)\n"
   ]
  },
  {
   "cell_type": "code",
   "execution_count": 44,
   "id": "4dc124db-1ce1-4866-a352-e14e99558030",
   "metadata": {},
   "outputs": [
    {
     "name": "stdout",
     "output_type": "stream",
     "text": [
      "The feature used for splitting the data is: study_hours_per_week\n"
     ]
    }
   ],
   "source": [
    "from sklearn.tree import DecisionTreeRegressor\n",
    "\n",
    "# Initialize DecisionTreeRegressor with max_depth=1\n",
    "dt = DecisionTreeRegressor(max_depth=1, random_state=1)\n",
    "\n",
    "# Train the model on the training data\n",
    "dt.fit(X_train, y_train)\n",
    "\n",
    "# Access the feature used for the split\n",
    "feature_names = dv.get_feature_names_out()\n",
    "split_feature_index = dt.tree_.feature[0]  # Index of the feature used for the split\n",
    "split_feature_name = feature_names[split_feature_index]\n",
    "\n",
    "print(f\"The feature used for splitting the data is: {split_feature_name}\")\n"
   ]
  },
  {
   "cell_type": "code",
   "execution_count": 45,
   "id": "631ce693-7772-4064-bb1b-0f040f25314f",
   "metadata": {},
   "outputs": [
    {
     "data": {
      "text/plain": [
       "array(['access_to_learning_materials=No',\n",
       "       'access_to_learning_materials=Yes', 'age', 'assignments_completed',\n",
       "       'attendance_rate', 'distance_to_school', 'extra_tutorials=No',\n",
       "       'extra_tutorials=Yes', 'gender=Female', 'gender=Male',\n",
       "       'it_knowledge=High', 'it_knowledge=Low', 'it_knowledge=Medium',\n",
       "       'parent_education_level=Primary',\n",
       "       'parent_education_level=Secondary',\n",
       "       'parent_education_level=Tertiary',\n",
       "       'parent_education_level=Unknown', 'parent_involvement=High',\n",
       "       'parent_involvement=Low', 'parent_involvement=Medium',\n",
       "       'school_location=Rural', 'school_location=Urban',\n",
       "       'school_type=Private', 'school_type=Public',\n",
       "       'socioeconomic_status=High', 'socioeconomic_status=Low',\n",
       "       'socioeconomic_status=Medium', 'study_hours_per_week',\n",
       "       'teacher_quality'], dtype=object)"
      ]
     },
     "execution_count": 45,
     "metadata": {},
     "output_type": "execute_result"
    }
   ],
   "source": [
    "feature_names"
   ]
  },
  {
   "cell_type": "code",
   "execution_count": 52,
   "id": "3570d447-08b0-45a1-b544-f8e839ce8973",
   "metadata": {},
   "outputs": [
    {
     "name": "stdout",
     "output_type": "stream",
     "text": [
      "The feature used for splitting the data is: study_hours_per_week\n"
     ]
    }
   ],
   "source": [
    "from sklearn.tree import DecisionTreeRegressor\n",
    "\n",
    "# Initialize DecisionTreeRegressor with max_depth=1\n",
    "dt = DecisionTreeRegressor(max_depth=1, random_state=1)\n",
    "\n",
    "# Train the model on the training data\n",
    "dt.fit(X_train, y_train)\n",
    "\n",
    "# Access the feature used for the split\n",
    "feature_names = dv.get_feature_names_out()\n",
    "split_feature_index = dt.tree_.feature[0]  # Index of the feature used for the split\n",
    "split_feature_name = feature_names[split_feature_index]\n",
    "\n",
    "print(f\"The feature used for splitting the data is: {split_feature_name}\")\n",
    "\n",
    "# dt.tree_.feature"
   ]
  },
  {
   "cell_type": "markdown",
   "id": "53bf9fa2-a064-4e34-a9bc-048aa5782c2d",
   "metadata": {},
   "source": [
    "### Q1 study_hours_per_week"
   ]
  },
  {
   "cell_type": "code",
   "execution_count": 54,
   "id": "94213005-588c-4fa4-901a-7b929c43b080",
   "metadata": {},
   "outputs": [
    {
     "name": "stdout",
     "output_type": "stream",
     "text": [
      "RMSE on validation set: 41.790\n"
     ]
    }
   ],
   "source": [
    "from sklearn.ensemble import RandomForestRegressor\n",
    "from sklearn.metrics import mean_squared_error\n",
    "import numpy as np\n",
    "\n",
    "# Initialize the Random Forest Regressor\n",
    "rf = RandomForestRegressor(n_estimators=10, random_state=1, n_jobs=-1)\n",
    "\n",
    "# Train the model on the training set\n",
    "rf.fit(X_train, y_train)\n",
    "\n",
    "# Predict on the validation set\n",
    "y_pred_val = rf.predict(X_val)\n",
    "\n",
    "# Calculate RMSE\n",
    "rmse_val = np.sqrt(mean_squared_error(y_val, y_pred_val))\n",
    "print(f\"RMSE on validation set: {rmse_val:.3f}\")\n",
    "\n"
   ]
  },
  {
   "cell_type": "code",
   "execution_count": 58,
   "id": "19af4cfb-ea18-4082-85b1-5407a31f0d72",
   "metadata": {},
   "outputs": [
    {
     "name": "stdout",
     "output_type": "stream",
     "text": [
      "  10 -> 41.790\n",
      "  20 -> 41.209\n",
      "  30 -> 40.922\n",
      "  40 -> 40.770\n",
      "  50 -> 40.726\n",
      "  60 -> 40.663\n",
      "  70 -> 40.605\n",
      "  80 -> 40.470\n",
      "  90 -> 40.446\n",
      " 100 -> 40.423\n",
      " 110 -> 40.463\n",
      " 120 -> 40.509\n",
      " 130 -> 40.493\n",
      " 140 -> 40.433\n",
      " 150 -> 40.417\n",
      " 160 -> 40.432\n",
      " 170 -> 40.449\n",
      " 180 -> 40.453\n",
      " 190 -> 40.441\n",
      " 200 -> 40.461\n"
     ]
    }
   ],
   "source": [
    "ests = []\n",
    "rmses = []\n",
    "\n",
    "for est in range(10,201,10):\n",
    "    rf = RandomForestRegressor(n_estimators=est, random_state=1)\n",
    "    rf.fit(X_train, y_train)\n",
    "    y_pred = rf.predict(X_val)\n",
    "    rmse_val = np.sqrt(mean_squared_error(y_val, y_pred))\n",
    "    ests.append(est)\n",
    "    rmses.append(rmse_val)\n",
    "    print('%4s -> %.3f' % (est, rmse_val))"
   ]
  },
  {
   "cell_type": "code",
   "execution_count": 59,
   "id": "31f606b5-1063-4270-bb85-f76a8256d4fb",
   "metadata": {},
   "outputs": [
    {
     "data": {
      "text/plain": [
       "[<matplotlib.lines.Line2D at 0x14ba38cb0>]"
      ]
     },
     "execution_count": 59,
     "metadata": {},
     "output_type": "execute_result"
    },
    {
     "data": {
      "image/png": "[encoded data removed]",
      "text/plain": [
       "<Figure size 640x480 with 1 Axes>"
      ]
     },
     "metadata": {},
     "output_type": "display_data"
    }
   ],
   "source": [
    "plt.plot(ests, rmses)"
   ]
  },
  {
   "cell_type": "code",
   "execution_count": 63,
   "id": "874f0f90-67de-45a1-9c85-2933b9443700",
   "metadata": {},
   "outputs": [
    {
     "data": {
      "text/plain": [
       "913     204\n",
       "1288    147\n",
       "3551    199\n",
       "2532    134\n",
       "2678    222\n",
       "       ... \n",
       "924     185\n",
       "3282    133\n",
       "2067    158\n",
       "4332    244\n",
       "4559    233\n",
       "Name: jamb_score, Length: 1000, dtype: int64"
      ]
     },
     "execution_count": 63,
     "metadata": {},
     "output_type": "execute_result"
    }
   ],
   "source": [
    " y_val"
   ]
  },
  {
   "cell_type": "code",
   "execution_count": 65,
   "id": "1455d868-d350-4c6b-bdb0-e45125f78e43",
   "metadata": {},
   "outputs": [
    {
     "data": {
      "image/png": "[encoded data removed]",
      "text/plain": [
       "<Figure size 800x500 with 1 Axes>"
      ]
     },
     "metadata": {},
     "output_type": "display_data"
    }
   ],
   "source": [
    "plt.figure(figsize=(8, 5))\n",
    "sns.histplot( y_val, kde=True, bins=100, color='skyblue')\n",
    "plt.xlabel('Value')\n",
    "plt.ylabel('Frequency')\n",
    "plt.title('Distribution of Values')\n",
    "plt.show()"
   ]
  },
  {
   "cell_type": "code",
   "execution_count": 66,
   "id": "b1c1dee3-3c0d-4cf7-bf2f-4955210a48aa",
   "metadata": {},
   "outputs": [
    {
     "data": {
      "image/png": "[encoded data removed]",
      "text/plain": [
       "<Figure size 800x500 with 1 Axes>"
      ]
     },
     "metadata": {},
     "output_type": "display_data"
    }
   ],
   "source": [
    "log_data = np.log1p(y_val)  # equivalent to log(data + 1)\n",
    "\n",
    "# Plot the transformed data\n",
    "plt.figure(figsize=(8, 5))\n",
    "sns.histplot(log_data, kde=True, color='skyblue')\n",
    "plt.xlabel('Log-Transformed Value')\n",
    "plt.title('Distribution after Log Transformation')\n",
    "plt.show()"
   ]
  },
  {
   "cell_type": "code",
   "execution_count": 67,
   "id": "bd1b2b23-9df8-43f1-9a26-545b7eb95f3c",
   "metadata": {},
   "outputs": [
    {
     "name": "stdout",
     "output_type": "stream",
     "text": [
      "Optimal n_estimators where RMSE stops improving: 100\n"
     ]
    }
   ],
   "source": [
    "import numpy as np\n",
    "from sklearn.ensemble import RandomForestRegressor\n",
    "from sklearn.metrics import mean_squared_error\n",
    "\n",
    "# Initialize lists to store results\n",
    "n_estimators_range = range(10, 210, 10)\n",
    "rmse_scores = []\n",
    "\n",
    "# Loop over values of n_estimators\n",
    "for n in n_estimators_range:\n",
    "    rf = RandomForestRegressor(n_estimators=n, random_state=1, n_jobs=-1)\n",
    "    rf.fit(X_train, y_train)  # Train the model\n",
    "    \n",
    "    # Predict on validation data and calculate RMSE\n",
    "    y_pred = rf.predict(X_val)\n",
    "    rmse = np.sqrt(mean_squared_error(y_val, y_pred))\n",
    "    rmse_scores.append((n, rmse))\n",
    "\n",
    "# Find the optimal n_estimators value\n",
    "for i in range(1, len(rmse_scores)):\n",
    "    if round(rmse_scores[i][1], 3) >= round(rmse_scores[i-1][1], 3):\n",
    "        optimal_n = rmse_scores[i-1][0]\n",
    "        break\n",
    "\n",
    "print(f\"Optimal n_estimators where RMSE stops improving: {optimal_n}\")\n"
   ]
  },
  {
   "cell_type": "code",
   "execution_count": 68,
   "id": "491ba6bf-ee2e-4bc3-8c6f-30142cb0045e",
   "metadata": {},
   "outputs": [
    {
     "name": "stdout",
     "output_type": "stream",
     "text": [
      "Best max_depth: 10 with mean RMSE: 40.332\n"
     ]
    }
   ],
   "source": [
    "import numpy as np\n",
    "from sklearn.ensemble import RandomForestRegressor\n",
    "from sklearn.metrics import mean_squared_error\n",
    "\n",
    "# Parameters to try\n",
    "max_depth_values = [10, 15, 20, 25]\n",
    "n_estimators_range = range(10, 210, 10)\n",
    "\n",
    "# Dictionary to store mean RMSE for each max_depth\n",
    "mean_rmse_results = {}\n",
    "\n",
    "for max_depth in max_depth_values:\n",
    "    rmse_scores = []  # Store RMSEs for different n_estimators\n",
    "    \n",
    "    for n_estimators in n_estimators_range:\n",
    "        # Train a RandomForestRegressor with given max_depth and n_estimators\n",
    "        rf = RandomForestRegressor(n_estimators=n_estimators, max_depth=max_depth, random_state=1, n_jobs=-1)\n",
    "        rf.fit(X_train, y_train)\n",
    "        \n",
    "        # Calculate RMSE on the validation set\n",
    "        y_pred = rf.predict(X_val)\n",
    "        rmse = np.sqrt(mean_squared_error(y_val, y_pred))\n",
    "        rmse_scores.append(rmse)\n",
    "    \n",
    "    # Calculate the mean RMSE for this max_depth\n",
    "    mean_rmse = np.mean(rmse_scores)\n",
    "    mean_rmse_results[max_depth] = mean_rmse  # Store in dictionary\n",
    "\n",
    "# Find the best max_depth based on the minimum mean RMSE\n",
    "best_max_depth = min(mean_rmse_results, key=mean_rmse_results.get)\n",
    "best_mean_rmse = mean_rmse_results[best_max_depth]\n",
    "\n",
    "print(f\"Best max_depth: {best_max_depth} with mean RMSE: {best_mean_rmse:.3f}\")\n"
   ]
  },
  {
   "cell_type": "code",
   "execution_count": 69,
   "id": "8703a394-90b5-412c-a8be-6904f7a2a6f1",
   "metadata": {},
   "outputs": [
    {
     "name": "stdout",
     "output_type": "stream",
     "text": [
      "The most important feature is: study_hours_per_week with importance: 0.246\n"
     ]
    }
   ],
   "source": [
    "from sklearn.ensemble import RandomForestRegressor\n",
    "\n",
    "# Define the model\n",
    "rf = RandomForestRegressor(n_estimators=10, max_depth=20, random_state=1, n_jobs=-1)\n",
    "\n",
    "# Train the model on the training data\n",
    "rf.fit(X_train, y_train)\n",
    "\n",
    "# Extract feature importance scores\n",
    "feature_importances = rf.feature_importances_\n",
    "\n",
    "# Create a DataFrame to map features to their importance scores\n",
    "feature_names = dv.get_feature_names_out()  # Get feature names from DictVectorizer\n",
    "importances_df = pd.DataFrame({\n",
    "    'feature': feature_names,\n",
    "    'importance': feature_importances\n",
    "})\n",
    "\n",
    "# Filter for the features of interest\n",
    "important_features = importances_df[importances_df['feature'].isin([\"study_hours_per_week\", \"attendance_rate\", \"teacher_quality\", \"distance_to_school\"])]\n",
    "\n",
    "# Find the most important feature\n",
    "most_important_feature = important_features.sort_values(by=\"importance\", ascending=False).iloc[0]\n",
    "\n",
    "print(f\"The most important feature is: {most_important_feature['feature']} with importance: {most_important_feature['importance']:.3f}\")\n"
   ]
  },
  {
   "cell_type": "code",
   "execution_count": 72,
   "id": "a2b5291d-af5f-4c1c-8294-cbd68426fbeb",
   "metadata": {},
   "outputs": [
    {
     "name": "stdout",
     "output_type": "stream",
     "text": [
      "[0]\ttrain-rmse:42.69384\teval-rmse:44.89114\n",
      "[1]\ttrain-rmse:39.83326\teval-rmse:43.07010\n",
      "[2]\ttrain-rmse:37.94542\teval-rmse:42.00332\n",
      "[3]\ttrain-rmse:36.56125\teval-rmse:41.46452\n",
      "[4]\ttrain-rmse:35.44252\teval-rmse:40.88896\n",
      "[5]\ttrain-rmse:34.57756\teval-rmse:40.69096\n",
      "[6]\ttrain-rmse:33.84230\teval-rmse:40.59315\n",
      "[7]\ttrain-rmse:33.25929\teval-rmse:40.47993\n",
      "[8]\ttrain-rmse:32.79415\teval-rmse:40.45326\n",
      "[9]\ttrain-rmse:32.16019\teval-rmse:40.43929\n",
      "[10]\ttrain-rmse:31.63404\teval-rmse:40.48319\n",
      "[11]\ttrain-rmse:31.17673\teval-rmse:40.68201\n",
      "[12]\ttrain-rmse:30.87313\teval-rmse:40.63522\n",
      "[13]\ttrain-rmse:30.30310\teval-rmse:40.70983\n",
      "[14]\ttrain-rmse:30.00098\teval-rmse:40.78133\n",
      "[15]\ttrain-rmse:29.41497\teval-rmse:40.86107\n",
      "[16]\ttrain-rmse:29.25816\teval-rmse:40.96580\n",
      "[17]\ttrain-rmse:28.59378\teval-rmse:41.12190\n",
      "[18]\ttrain-rmse:28.27990\teval-rmse:41.14360\n",
      "[19]\ttrain-rmse:27.94572\teval-rmse:41.22835\n",
      "[20]\ttrain-rmse:27.49658\teval-rmse:41.27921\n",
      "[21]\ttrain-rmse:27.25449\teval-rmse:41.32427\n",
      "[22]\ttrain-rmse:27.06652\teval-rmse:41.41887\n",
      "[23]\ttrain-rmse:26.78737\teval-rmse:41.44451\n",
      "[24]\ttrain-rmse:26.47071\teval-rmse:41.52684\n",
      "[25]\ttrain-rmse:26.34353\teval-rmse:41.57975\n",
      "[26]\ttrain-rmse:25.76052\teval-rmse:41.63976\n",
      "[27]\ttrain-rmse:25.30520\teval-rmse:41.70697\n",
      "[28]\ttrain-rmse:24.86506\teval-rmse:41.69887\n",
      "[29]\ttrain-rmse:24.53599\teval-rmse:41.73703\n",
      "[30]\ttrain-rmse:24.21076\teval-rmse:41.72928\n",
      "[31]\ttrain-rmse:23.82235\teval-rmse:41.72136\n",
      "[32]\ttrain-rmse:23.46994\teval-rmse:41.72436\n",
      "[33]\ttrain-rmse:23.12153\teval-rmse:41.85049\n",
      "[34]\ttrain-rmse:22.72535\teval-rmse:41.98504\n",
      "[35]\ttrain-rmse:22.46394\teval-rmse:42.03417\n",
      "[36]\ttrain-rmse:22.26444\teval-rmse:42.07600\n",
      "[37]\ttrain-rmse:21.83666\teval-rmse:42.04571\n",
      "[38]\ttrain-rmse:21.68940\teval-rmse:42.08106\n",
      "[39]\ttrain-rmse:21.41331\teval-rmse:42.21377\n",
      "[40]\ttrain-rmse:21.35340\teval-rmse:42.24363\n",
      "[41]\ttrain-rmse:20.98685\teval-rmse:42.31689\n",
      "[42]\ttrain-rmse:20.79036\teval-rmse:42.30732\n",
      "[43]\ttrain-rmse:20.66554\teval-rmse:42.26924\n",
      "[44]\ttrain-rmse:20.56989\teval-rmse:42.28523\n",
      "[45]\ttrain-rmse:20.24355\teval-rmse:42.27966\n",
      "[46]\ttrain-rmse:20.05148\teval-rmse:42.24641\n",
      "[47]\ttrain-rmse:19.84740\teval-rmse:42.24360\n",
      "[48]\ttrain-rmse:19.60971\teval-rmse:42.34091\n",
      "[49]\ttrain-rmse:19.50284\teval-rmse:42.39551\n",
      "[50]\ttrain-rmse:19.25157\teval-rmse:42.43824\n",
      "[51]\ttrain-rmse:19.02755\teval-rmse:42.48831\n",
      "[52]\ttrain-rmse:18.94180\teval-rmse:42.46744\n",
      "[53]\ttrain-rmse:18.74533\teval-rmse:42.47890\n",
      "[54]\ttrain-rmse:18.55230\teval-rmse:42.52560\n",
      "[55]\ttrain-rmse:18.28398\teval-rmse:42.54750\n",
      "[56]\ttrain-rmse:17.99065\teval-rmse:42.55931\n",
      "[57]\ttrain-rmse:17.81369\teval-rmse:42.61400\n",
      "[58]\ttrain-rmse:17.55091\teval-rmse:42.63357\n",
      "[59]\ttrain-rmse:17.36488\teval-rmse:42.61867\n",
      "[60]\ttrain-rmse:17.12178\teval-rmse:42.64446\n",
      "[61]\ttrain-rmse:16.99520\teval-rmse:42.66346\n",
      "[62]\ttrain-rmse:16.88259\teval-rmse:42.68190\n",
      "[63]\ttrain-rmse:16.74328\teval-rmse:42.69675\n",
      "[64]\ttrain-rmse:16.48594\teval-rmse:42.77870\n",
      "[65]\ttrain-rmse:16.41573\teval-rmse:42.77416\n",
      "[66]\ttrain-rmse:16.30770\teval-rmse:42.84447\n",
      "[67]\ttrain-rmse:16.23149\teval-rmse:42.85617\n",
      "[68]\ttrain-rmse:16.08017\teval-rmse:42.83880\n",
      "[69]\ttrain-rmse:15.94722\teval-rmse:42.82752\n",
      "[70]\ttrain-rmse:15.78314\teval-rmse:42.84909\n",
      "[71]\ttrain-rmse:15.64071\teval-rmse:42.88078\n",
      "[72]\ttrain-rmse:15.43077\teval-rmse:42.91743\n",
      "[73]\ttrain-rmse:15.20807\teval-rmse:42.95770\n",
      "[74]\ttrain-rmse:15.02855\teval-rmse:42.98525\n",
      "[75]\ttrain-rmse:14.80007\teval-rmse:43.00760\n",
      "[76]\ttrain-rmse:14.62744\teval-rmse:43.00140\n",
      "[77]\ttrain-rmse:14.49116\teval-rmse:43.04155\n",
      "[78]\ttrain-rmse:14.33021\teval-rmse:43.03951\n",
      "[79]\ttrain-rmse:14.17890\teval-rmse:43.05857\n",
      "[80]\ttrain-rmse:13.96907\teval-rmse:43.08250\n",
      "[81]\ttrain-rmse:13.89819\teval-rmse:43.09026\n",
      "[82]\ttrain-rmse:13.79731\teval-rmse:43.09671\n",
      "[83]\ttrain-rmse:13.59307\teval-rmse:43.13289\n",
      "[84]\ttrain-rmse:13.52063\teval-rmse:43.15163\n",
      "[85]\ttrain-rmse:13.39102\teval-rmse:43.16297\n",
      "[86]\ttrain-rmse:13.17943\teval-rmse:43.20404\n",
      "[87]\ttrain-rmse:12.95800\teval-rmse:43.26877\n",
      "[88]\ttrain-rmse:12.83429\teval-rmse:43.29748\n",
      "[89]\ttrain-rmse:12.66807\teval-rmse:43.29220\n",
      "[90]\ttrain-rmse:12.46485\teval-rmse:43.25161\n",
      "[91]\ttrain-rmse:12.30309\teval-rmse:43.28441\n",
      "[92]\ttrain-rmse:12.22398\teval-rmse:43.29293\n",
      "[93]\ttrain-rmse:12.01197\teval-rmse:43.35861\n",
      "[94]\ttrain-rmse:11.96875\teval-rmse:43.36460\n",
      "[95]\ttrain-rmse:11.95568\teval-rmse:43.37919\n",
      "[96]\ttrain-rmse:11.76819\teval-rmse:43.39410\n",
      "[97]\ttrain-rmse:11.58218\teval-rmse:43.40203\n",
      "[98]\ttrain-rmse:11.53812\teval-rmse:43.40245\n",
      "[99]\ttrain-rmse:11.39140\teval-rmse:43.41903\n",
      "RMSE for eta = 0.3: 43.419033377209395\n",
      "[0]\ttrain-rmse:45.49999\teval-rmse:47.00533\n",
      "[1]\ttrain-rmse:44.12948\teval-rmse:45.92344\n",
      "[2]\ttrain-rmse:42.94858\teval-rmse:44.98366\n",
      "[3]\ttrain-rmse:41.90896\teval-rmse:44.25755\n",
      "[4]\ttrain-rmse:40.96728\teval-rmse:43.57339\n",
      "[5]\ttrain-rmse:40.17514\teval-rmse:43.11181\n",
      "[6]\ttrain-rmse:39.40436\teval-rmse:42.61054\n",
      "[7]\ttrain-rmse:38.71199\teval-rmse:42.18883\n",
      "[8]\ttrain-rmse:38.08081\teval-rmse:41.86754\n",
      "[9]\ttrain-rmse:37.57559\teval-rmse:41.64338\n",
      "[10]\ttrain-rmse:37.07490\teval-rmse:41.39235\n",
      "[11]\ttrain-rmse:36.58709\teval-rmse:41.14265\n",
      "[12]\ttrain-rmse:36.14574\teval-rmse:40.95201\n",
      "[13]\ttrain-rmse:35.76896\teval-rmse:40.81778\n",
      "[14]\ttrain-rmse:35.40802\teval-rmse:40.75008\n",
      "[15]\ttrain-rmse:35.08521\teval-rmse:40.61341\n",
      "[16]\ttrain-rmse:34.74187\teval-rmse:40.51800\n",
      "[17]\ttrain-rmse:34.43969\teval-rmse:40.41659\n",
      "[18]\ttrain-rmse:34.16132\teval-rmse:40.33546\n",
      "[19]\ttrain-rmse:33.91836\teval-rmse:40.25632\n",
      "[20]\ttrain-rmse:33.67389\teval-rmse:40.25010\n",
      "[21]\ttrain-rmse:33.45853\teval-rmse:40.19826\n",
      "[22]\ttrain-rmse:33.23371\teval-rmse:40.21101\n",
      "[23]\ttrain-rmse:32.98777\teval-rmse:40.14758\n",
      "[24]\ttrain-rmse:32.80930\teval-rmse:40.15079\n",
      "[25]\ttrain-rmse:32.55850\teval-rmse:40.12003\n",
      "[26]\ttrain-rmse:32.33472\teval-rmse:40.08693\n",
      "[27]\ttrain-rmse:32.16808\teval-rmse:40.08567\n",
      "[28]\ttrain-rmse:32.02459\teval-rmse:40.07263\n",
      "[29]\ttrain-rmse:31.88060\teval-rmse:40.14000\n",
      "[30]\ttrain-rmse:31.76039\teval-rmse:40.13806\n",
      "[31]\ttrain-rmse:31.59198\teval-rmse:40.11982\n",
      "[32]\ttrain-rmse:31.47040\teval-rmse:40.13489\n",
      "[33]\ttrain-rmse:31.23756\teval-rmse:40.16486\n",
      "[34]\ttrain-rmse:31.11811\teval-rmse:40.17118\n",
      "[35]\ttrain-rmse:31.01425\teval-rmse:40.16103\n",
      "[36]\ttrain-rmse:30.80211\teval-rmse:40.19895\n",
      "[37]\ttrain-rmse:30.59550\teval-rmse:40.19394\n",
      "[38]\ttrain-rmse:30.41278\teval-rmse:40.20019\n",
      "[39]\ttrain-rmse:30.29415\teval-rmse:40.18898\n",
      "[40]\ttrain-rmse:30.13427\teval-rmse:40.17753\n",
      "[41]\ttrain-rmse:30.03650\teval-rmse:40.19907\n",
      "[42]\ttrain-rmse:29.85009\teval-rmse:40.23107\n",
      "[43]\ttrain-rmse:29.78370\teval-rmse:40.24420\n",
      "[44]\ttrain-rmse:29.64129\teval-rmse:40.27500\n",
      "[45]\ttrain-rmse:29.49040\teval-rmse:40.27366\n",
      "[46]\ttrain-rmse:29.39188\teval-rmse:40.24679\n",
      "[47]\ttrain-rmse:29.18726\teval-rmse:40.28895\n",
      "[48]\ttrain-rmse:28.96397\teval-rmse:40.27880\n",
      "[49]\ttrain-rmse:28.84326\teval-rmse:40.30062\n",
      "[50]\ttrain-rmse:28.75947\teval-rmse:40.29573\n",
      "[51]\ttrain-rmse:28.66521\teval-rmse:40.32700\n",
      "[52]\ttrain-rmse:28.57470\teval-rmse:40.31936\n",
      "[53]\ttrain-rmse:28.42476\teval-rmse:40.35036\n",
      "[54]\ttrain-rmse:28.33097\teval-rmse:40.36356\n",
      "[55]\ttrain-rmse:28.17535\teval-rmse:40.40072\n",
      "[56]\ttrain-rmse:28.12505\teval-rmse:40.40093\n",
      "[57]\ttrain-rmse:28.01404\teval-rmse:40.41411\n",
      "[58]\ttrain-rmse:27.92953\teval-rmse:40.43980\n",
      "[59]\ttrain-rmse:27.85113\teval-rmse:40.44968\n",
      "[60]\ttrain-rmse:27.77264\teval-rmse:40.47477\n",
      "[61]\ttrain-rmse:27.58718\teval-rmse:40.47133\n",
      "[62]\ttrain-rmse:27.39983\teval-rmse:40.48235\n",
      "[63]\ttrain-rmse:27.25860\teval-rmse:40.45222\n",
      "[64]\ttrain-rmse:27.18493\teval-rmse:40.48469\n",
      "[65]\ttrain-rmse:27.10119\teval-rmse:40.47659\n",
      "[66]\ttrain-rmse:26.98914\teval-rmse:40.50645\n",
      "[67]\ttrain-rmse:26.87200\teval-rmse:40.51134\n",
      "[68]\ttrain-rmse:26.82231\teval-rmse:40.52407\n",
      "[69]\ttrain-rmse:26.67667\teval-rmse:40.53409\n",
      "[70]\ttrain-rmse:26.61847\teval-rmse:40.55225\n",
      "[71]\ttrain-rmse:26.52262\teval-rmse:40.57516\n",
      "[72]\ttrain-rmse:26.46754\teval-rmse:40.59012\n",
      "[73]\ttrain-rmse:26.39921\teval-rmse:40.59042\n",
      "[74]\ttrain-rmse:26.31420\teval-rmse:40.59015\n",
      "[75]\ttrain-rmse:26.21281\teval-rmse:40.62564\n",
      "[76]\ttrain-rmse:26.06486\teval-rmse:40.61919\n",
      "[77]\ttrain-rmse:25.95218\teval-rmse:40.60548\n",
      "[78]\ttrain-rmse:25.87666\teval-rmse:40.61558\n",
      "[79]\ttrain-rmse:25.76297\teval-rmse:40.62441\n",
      "[80]\ttrain-rmse:25.69135\teval-rmse:40.61309\n",
      "[81]\ttrain-rmse:25.60636\teval-rmse:40.61170\n",
      "[82]\ttrain-rmse:25.50292\teval-rmse:40.62077\n",
      "[83]\ttrain-rmse:25.40326\teval-rmse:40.64626\n",
      "[84]\ttrain-rmse:25.24225\teval-rmse:40.65516\n",
      "[85]\ttrain-rmse:25.14363\teval-rmse:40.66530\n",
      "[86]\ttrain-rmse:25.05938\teval-rmse:40.70928\n",
      "[87]\ttrain-rmse:24.96816\teval-rmse:40.73308\n",
      "[88]\ttrain-rmse:24.88831\teval-rmse:40.78140\n",
      "[89]\ttrain-rmse:24.75435\teval-rmse:40.82961\n",
      "[90]\ttrain-rmse:24.60413\teval-rmse:40.84708\n",
      "[91]\ttrain-rmse:24.46832\teval-rmse:40.87368\n",
      "[92]\ttrain-rmse:24.34226\teval-rmse:40.89024\n",
      "[93]\ttrain-rmse:24.25047\teval-rmse:40.92316\n",
      "[94]\ttrain-rmse:24.14802\teval-rmse:40.94518\n",
      "[95]\ttrain-rmse:24.03404\teval-rmse:40.99952\n",
      "[96]\ttrain-rmse:24.00230\teval-rmse:41.00887\n",
      "[97]\ttrain-rmse:23.88940\teval-rmse:41.05015\n",
      "[98]\ttrain-rmse:23.76232\teval-rmse:41.06328\n",
      "[99]\ttrain-rmse:23.59704\teval-rmse:41.05034\n",
      "RMSE for eta = 0.1: 41.05034017683498\n",
      "eta = 0.1 leads to the best RMSE score.\n"
     ]
    }
   ],
   "source": [
    "import xgboost as xgb\n",
    "from sklearn.metrics import mean_squared_error\n",
    "import numpy as np\n",
    "\n",
    "# Sample Data Preparation (replace this with your actual data)\n",
    "# X_train, X_val, y_train, y_val should be defined as your datasets\n",
    "# Example:\n",
    "# from sklearn.model_selection import train_test_split\n",
    "# X, y = ...  # Load your features and target variable\n",
    "# X_train, X_val, y_train, y_val = train_test_split(X, y, test_size=0.2, random_state=42)\n",
    "\n",
    "# Create DMatrix for train and validation\n",
    "dtrain = xgb.DMatrix(X_train, label=y_train)\n",
    "dval = xgb.DMatrix(X_val, label=y_val)\n",
    "\n",
    "# Create a watchlist\n",
    "watchlist = [(dtrain, 'train'), (dval, 'eval')]\n",
    "\n",
    "# Set initial parameters\n",
    "xgb_params = {\n",
    "    'eta': 0.3,\n",
    "    'max_depth': 6,\n",
    "    'min_child_weight': 1,\n",
    "    'objective': 'reg:squarederror',\n",
    "    'nthread': 8,\n",
    "    'seed': 1,\n",
    "    'verbosity': 1,\n",
    "}\n",
    "\n",
    "# Train the model with eta = 0.3\n",
    "model_03 = xgb.train(xgb_params, dtrain, num_boost_round=100, evals=watchlist)\n",
    "\n",
    "# Make predictions for eta = 0.3\n",
    "preds_03 = model_03.predict(dval)\n",
    "\n",
    "# Calculate RMSE for eta = 0.3\n",
    "rmse_03 = np.sqrt(mean_squared_error(y_val, preds_03))\n",
    "print(f'RMSE for eta = 0.3: {rmse_03}')\n",
    "\n",
    "# Change eta to 0.1\n",
    "xgb_params['eta'] = 0.1\n",
    "\n",
    "# Train the model with eta = 0.1\n",
    "model_01 = xgb.train(xgb_params, dtrain, num_boost_round=100, evals=watchlist)\n",
    "\n",
    "# Make predictions for eta = 0.1\n",
    "preds_01 = model_01.predict(dval)\n",
    "\n",
    "# Calculate RMSE for eta = 0.1\n",
    "rmse_01 = np.sqrt(mean_squared_error(y_val, preds_01))\n",
    "print(f'RMSE for eta = 0.1: {rmse_01}')\n",
    "\n",
    "# Compare RMSE scores\n",
    "if rmse_03 < rmse_01:\n",
    "    print(\"eta = 0.3 leads to the best RMSE score.\")\n",
    "else:\n",
    "    print(\"eta = 0.1 leads to the best RMSE score.\")\n"
   ]
  },
  {
   "cell_type": "code",
   "execution_count": null,
   "id": "3ad4355c-1163-4bb1-b8fe-fd29d9f61509",
   "metadata": {},
   "outputs": [],
   "source": []
  }
 ],
 "metadata": {
  "kernelspec": {
   "display_name": "Python 3 (ipykernel)",
   "language": "python",
   "name": "python3"
  },
  "language_info": {
   "codemirror_mode": {
    "name": "ipython",
    "version": 3
   },
   "file_extension": ".py",
   "mimetype": "text/x-python",
   "name": "python",
   "nbconvert_exporter": "python",
   "pygments_lexer": "ipython3",
   "version": "3.12.4"
  }
 },
 "nbformat": 4,
 "nbformat_minor": 5
}
